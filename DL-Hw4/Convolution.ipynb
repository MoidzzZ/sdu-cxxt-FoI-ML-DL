{
 "cells": [
  {
   "cell_type": "code",
   "execution_count": 1,
   "id": "a933e482",
   "metadata": {},
   "outputs": [],
   "source": [
    "import numpy as np\n",
    "import time"
   ]
  },
  {
   "cell_type": "code",
   "execution_count": 2,
   "id": "e8491f12",
   "metadata": {},
   "outputs": [],
   "source": [
    "# 初始化输入矩阵，标准化\n",
    "X_ = np.arange(214*214*3).reshape(3,214,214)\n",
    "X = (X_-np.mean(X_))/np.std(X_)"
   ]
  },
  {
   "cell_type": "code",
   "execution_count": 3,
   "id": "67f1d562",
   "metadata": {},
   "outputs": [],
   "source": [
    "# 初始化kernel\n",
    "# 第一维为输出通道数，第二维为输入通道数\n",
    "# 三四维为卷积核的长宽\n",
    "H = np.random.rand(64, 3, 3, 3)"
   ]
  },
  {
   "cell_type": "code",
   "execution_count": 4,
   "id": "b2e75d8b",
   "metadata": {},
   "outputs": [],
   "source": [
    "# 第一种矩阵乘法，展平Kernel，处理输入矩阵\n",
    "def func1(H, X):\n",
    "    channel_in, height, width = X.shape[0:3]\n",
    "    assert channel_in == H.shape[1], \"输入通道数不匹配\"\n",
    "    channel_out = H.shape[0]\n",
    "    assert H.shape[2] == H.shape[3], \"卷积核不为方阵\"\n",
    "    kernel_size = H.shape[2]\n",
    "    \n",
    "    Yy = []\n",
    "    # 以矩阵为单位进行处理        \n",
    "    for i in range(channel_out):\n",
    "        Y_ = np.zeros((height - kernel_size +1) * (width - kernel_size +1))\n",
    "        for j in range(channel_in):\n",
    "            # 处理输入矩阵\n",
    "            X_ = np.zeros(((height - kernel_size +1) * (width - kernel_size +1), kernel_size**2))\n",
    "            Xx = X[j]\n",
    "            row_num = 0\n",
    "            for m in range(height - kernel_size + 1):\n",
    "                for n in range(width - kernel_size + 1):\n",
    "                    # 将输入矩阵的一块子矩阵展平放到对应的列中\n",
    "                    X_[row_num,:] = Xx[m:m+kernel_size, n:n+kernel_size].flatten()\n",
    "                    row_num += 1\n",
    "            \n",
    "            # 将Kernel展平\n",
    "            Hh = H[i][j]\n",
    "            H_ = Hh.flatten()\n",
    "            \n",
    "            # 得到输入和卷积核一个通道上的结果\n",
    "            Y_ += X_ @ H_  \n",
    "        Yy.append(Y_.reshape(height - kernel_size +1,  width - kernel_size +1))\n",
    "    \n",
    "    Y = np.array(Yy)\n",
    "    return Y"
   ]
  },
  {
   "cell_type": "code",
   "execution_count": 5,
   "id": "9cd25a23",
   "metadata": {},
   "outputs": [
    {
     "name": "stdout",
     "output_type": "stream",
     "text": [
      "(64, 212, 212)\n",
      "运行时间:8740.14401435852 ms\n"
     ]
    }
   ],
   "source": [
    "T1 = time.time()\n",
    "print(func1(H, X).shape)\n",
    "T1_ = time.time()\n",
    "print(\"运行时间:%s ms\" % ((T1_-T1)*1000))"
   ]
  },
  {
   "cell_type": "code",
   "execution_count": 6,
   "id": "481e8e19",
   "metadata": {},
   "outputs": [],
   "source": [
    "# 第二种矩阵乘法，把Kernel变为稀疏矩阵，展平输入\n",
    "def func2(H, X):\n",
    "    channel_in, height, width = X.shape[0:3]\n",
    "    assert channel_in == H.shape[1], \"输入通道数不匹配\"\n",
    "    channel_out = H.shape[0]\n",
    "    assert H.shape[2] == H.shape[3], \"卷积核不为方阵\"\n",
    "    kernel_size = H.shape[2]\n",
    "    \n",
    "    Yy = []\n",
    "    # 同样以矩阵为单位进行处理\n",
    "    for i in range(channel_out):\n",
    "        Y_ = np.zeros((height - kernel_size +1) * (width - kernel_size +1))\n",
    "        for j in range(channel_in):\n",
    "            # 得到稀疏矩阵\n",
    "            H_ = np.zeros(((height - kernel_size +1) * (width - kernel_size +1), height * width))\n",
    "            \n",
    "            # 将核展开并在行之间插入0\n",
    "            length = kernel_size ** 2 + kernel_size -1\n",
    "            Hh = np.zeros(length)\n",
    "            m = 0\n",
    "            count = 0\n",
    "            while m < length:\n",
    "                Hh[m:m+kernel_size] = H[i][j][count]\n",
    "                m += kernel_size + 1\n",
    "                count += 1\n",
    "            \n",
    "            for m in range((height - kernel_size +1) * (width - kernel_size +1)):\n",
    "                H_[m][m:m+length] = Hh\n",
    "            \n",
    "            # 展平X\n",
    "            X_ = X[j].flatten()\n",
    "            Y_ += H_ @ X_\n",
    "        Yy.append(Y_.reshape(height - kernel_size +1,  width - kernel_size +1))\n",
    "    \n",
    "    Y = np.array(Yy)\n",
    "    return Y"
   ]
  },
  {
   "cell_type": "code",
   "execution_count": 7,
   "id": "e4f7fbd0",
   "metadata": {},
   "outputs": [
    {
     "name": "stdout",
     "output_type": "stream",
     "text": [
      "(64, 212, 212)\n",
      "运行时间:476282.5219631195 ms\n"
     ]
    }
   ],
   "source": [
    "T2 = time.time()\n",
    "print(func2(H, X).shape)\n",
    "T2_ = time.time()\n",
    "print(\"运行时间:%s ms\" % ((T2_-T2)*1000))"
   ]
  }
 ],
 "metadata": {
  "kernelspec": {
   "display_name": "Python 3 (ipykernel)",
   "language": "python",
   "name": "python3"
  },
  "language_info": {
   "codemirror_mode": {
    "name": "ipython",
    "version": 3
   },
   "file_extension": ".py",
   "mimetype": "text/x-python",
   "name": "python",
   "nbconvert_exporter": "python",
   "pygments_lexer": "ipython3",
   "version": "3.8.13"
  }
 },
 "nbformat": 4,
 "nbformat_minor": 5
}
