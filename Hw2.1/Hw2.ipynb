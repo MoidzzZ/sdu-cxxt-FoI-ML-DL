{
 "cells": [
  {
   "cell_type": "code",
   "execution_count": null,
   "id": "52ecbc5c",
   "metadata": {
    "collapsed": true
   },
   "outputs": [],
   "source": [
    "import numpy as np\n",
    "import matplotlib.pyplot as plt\n",
    "import matplotlib\n",
    "%matplotlib inline"
   ]
  },
  {
   "cell_type": "markdown",
   "id": "16cafcf6",
   "metadata": {},
   "source": [
    "作业整体分为两个部分：\n",
    "1. 随机生成点后做成矩阵（如果不增加全为1的矩阵，会拟合不到偏移）\n",
    "2. 分别用闭式解法和梯度下降求得theta，并且生成两幅图展示\n",
    "（请在jupyter notevbook下运行，否则会无法直接查看图片）"
   ]
  },
  {
   "cell_type": "code",
   "execution_count": 2,
   "id": "9538e1c6",
   "metadata": {
    "collapsed": true
   },
   "outputs": [],
   "source": [
    "mean = [2,1]\n",
    "cov = [[1,0.5],[0.5,2]]\n",
    "\n",
    "data = np.random.multivariate_normal(mean, cov, 30)\n",
    "x, y= data.T"
   ]
  },
  {
   "cell_type": "code",
   "execution_count": 3,
   "id": "4a485801",
   "metadata": {
    "collapsed": true
   },
   "outputs": [],
   "source": [
    "# 增加一个全为1的列，用来拟合偏移\n",
    "X = np.array(list(zip(np.ones(x.shape),x)))"
   ]
  },
  {
   "cell_type": "code",
   "execution_count": 4,
   "id": "9303705b",
   "metadata": {},
   "outputs": [
    {
     "data": {
      "text/plain": [
       "[<matplotlib.lines.Line2D at 0x1ea1e944cc0>]"
      ]
     },
     "execution_count": 4,
     "metadata": {},
     "output_type": "execute_result"
    },
    {
     "data": {
      "image/png": "[encoded data removed]",
      "text/plain": [
       "<Figure size 432x288 with 1 Axes>"
      ]
     },
     "metadata": {},
     "output_type": "display_data"
    }
   ],
   "source": [
    "# 闭式解\n",
    "theta1 = np.dot(np.dot(np.linalg.pinv(np.dot(X.T, X)), X.T), y)\n",
    "\n",
    "plt.scatter(x, y)\n",
    "axes = plt.gca()\n",
    "x_vals = np.array(axes.get_xlim())\n",
    "y_vals1 = x_vals * theta1[1] + theta1[0]\n",
    "plt.plot(x_vals, y_vals1, '--')"
   ]
  },
  {
   "cell_type": "code",
   "execution_count": 5,
   "id": "83a5e6a5",
   "metadata": {
    "collapsed": true
   },
   "outputs": [],
   "source": [
    "# 梯度下降\n",
    "# 定义损失函数，实际没有用上\n",
    "def J(theta, X, y):\n",
    "    return np.sum((y - X.dot(theta)) ** 2) / (2 * len(X))\n",
    "\n",
    "# 对损失函数关于theta求导\n",
    "def dJ(theta, X, y):\n",
    "    d = np.zeros(2)\n",
    "    d[0] = np.sum(X.dot(theta) - y) / len(X)\n",
    "    d[1] = np.sum(X[:, 1].dot(X.dot(theta) - y)) / len(X)\n",
    "    return d"
   ]
  },
  {
   "cell_type": "code",
   "execution_count": 6,
   "id": "1c466db4",
   "metadata": {},
   "outputs": [
    {
     "data": {
      "text/plain": [
       "<matplotlib.legend.Legend at 0x1ea00b0ae80>"
      ]
     },
     "execution_count": 6,
     "metadata": {},
     "output_type": "execute_result"
    },
    {
     "data": {
      "image/png": "[encoded data removed]",
      "text/plain": [
       "<Figure size 432x288 with 1 Axes>"
      ]
     },
     "metadata": {},
     "output_type": "display_data"
    }
   ],
   "source": [
    "# 初始参数的分布，对应的直线也展示在了图中\n",
    "theta2 = np.random.rand(2)\n",
    "y_2 = x_vals * theta2[1] + theta2[0]\n",
    "plt.plot(x_vals, y_2, '--')\n",
    "\n",
    "lr = 0.1\n",
    "count = 0\n",
    "while count < 5000:\n",
    "    theta2 = theta2 - lr  * dJ(theta2, X, y)\n",
    "    if all(abs(dJ(theta2, X, y)) <= 0.001):\n",
    "        break\n",
    "    count += 1\n",
    "    \n",
    "plt.scatter(x, y)\n",
    "axes = plt.gca()\n",
    "y_vals2 = x_vals * theta2[1] + theta2[0]\n",
    "plt.plot(x_vals, y_vals2, '--')\n",
    "plt.legend([\"primitive\", \"prediect\"])"
   ]
  }
 ],
 "metadata": {
  "kernelspec": {
   "display_name": "Python 3",
   "language": "python",
   "name": "python3"
  },
  "language_info": {
   "codemirror_mode": {
    "name": "ipython",
    "version": 3
   },
   "file_extension": ".py",
   "mimetype": "text/x-python",
   "name": "python",
   "nbconvert_exporter": "python",
   "pygments_lexer": "ipython3",
   "version": "3.6.0"
  }
 },
 "nbformat": 4,
 "nbformat_minor": 5
}
