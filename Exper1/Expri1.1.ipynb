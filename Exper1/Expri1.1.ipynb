{
 "cells": [
  {
   "cell_type": "code",
   "execution_count": 1,
   "id": "9f4fd5c7",
   "metadata": {
    "collapsed": true
   },
   "outputs": [],
   "source": [
    "import numpy as np\n",
    "import matplotlib.pyplot as plt\n",
    "%matplotlib inline"
   ]
  },
  {
   "cell_type": "code",
   "execution_count": 2,
   "id": "b47482f5",
   "metadata": {
    "collapsed": true
   },
   "outputs": [],
   "source": [
    "# 定义使用sigmoid的三层BP且输出维度为1网络，指定输入，隐藏量层的维度\n",
    "class BP_3layers1out:\n",
    "    # 初始化权重矩阵和偏置向量，指定学习率\n",
    "    def __init__(self, num_inputs, num_hiddens, lr):\n",
    "        self.W1 = np.random.randn(num_inputs, num_hiddens)\n",
    "        self.b1 = np.random.randn(1, num_hiddens)\n",
    "        self.W2 = np.random.randn(num_hiddens, 1)\n",
    "        self.b2 = np.random.randn(1, 1)\n",
    "        self.lr = lr\n",
    "    \n",
    "    # 定义激活函数\n",
    "    def sigmoid(self, x):\n",
    "        # 当x能取负值时会出现指数爆炸的情况，需要修改\n",
    "        # return 1 / (1 + np.exp(-x))\n",
    "        # 这么直接改也不行\n",
    "        #if x.all() >= 0:\n",
    "        #     return 1.0 / (1 + exp(-x))\n",
    "        # else:\n",
    "        #     return exp(x) / (1 + exp(x))\n",
    "        # 参考链接：https://blog.csdn.net/cgy13347250452/article/details/125276177\n",
    "        y = x.copy()\n",
    "        y[x >= 0] = 1.0 / (1 + np.exp(-x[x >= 0]))\n",
    "        y[x < 0] = np.exp(x[x < 0]) / (1 + np.exp(x[x < 0]))\n",
    "        return y\n",
    "    \n",
    "    # 定义损失函数SE\n",
    "    def loss_MSE(self, y_hat, y):\n",
    "        return 0.5 * sum((y_hat - y) ** 2) / len(y)\n",
    "    \n",
    "    # 前向传播\n",
    "    # x为一个数据向量\n",
    "    def forward(self, x):\n",
    "        # 先计算隐藏层\n",
    "        h = self.sigmoid(x @ self.W1 + self.b1)\n",
    "        # 返回隐藏层变量和输出\n",
    "        return self.sigmoid(h @ self.W2 + self.b2), h\n",
    "    \n",
    "    # 具体推导过程见笔记链接\n",
    "    # 反向传播更新\n",
    "    def bp(self, y_hat, y, h, x):\n",
    "        # 标量\n",
    "        dLdy = y_hat - y\n",
    "        # 标量对标量求导还是标量\n",
    "        dLdb2 = dLdy * y_hat * (1-y_hat)\n",
    "        # 标量对向量求导\n",
    "        # 等价于标量对向量中的每个元素求导，需要转置\n",
    "        dLdW2 = dLdb2 * h.T\n",
    "        # 标量对向量求导\n",
    "        dLdb1 = dLdy * self.W2.T * h * (1-h)\n",
    "        # 标量对矩阵求导\n",
    "        dLdW1 = x.T @ dLdb1\n",
    "        \n",
    "        # 更新\n",
    "        self.b2 -= self.lr * dLdb2\n",
    "        self.W2 -= self.lr * dLdW2\n",
    "        self.b1 -= self.lr * dLdb1\n",
    "        self.W1 -= self.lr * dLdW1\n",
    "        \n",
    "    # 对有限的数据不断利用更新参数\n",
    "    def train(self, inputs, outputs, epochs=5000, decay=False):\n",
    "        loss =[]\n",
    "        for i in range(epochs):\n",
    "            # print(i)\n",
    "            # 衰减学习率\n",
    "            if decay:\n",
    "                self.lr /= (1 + i * 0.00001)\n",
    "            for (x, y) in zip(inputs, outputs):\n",
    "                # ndarry默认没有维度，需要通过reshape调整\n",
    "                x = x.reshape(1, -1)\n",
    "                y_hat, h = self.forward(x)\n",
    "                self.bp(y_hat, y, h, x)\n",
    "            loss.append(self.loss_MSE(self.predict(inputs), outputs))\n",
    "        return loss\n",
    "    \n",
    "    def predict(self, inputs):\n",
    "        outputs = np.zeros(len(inputs))\n",
    "        for i in range(len(inputs)):\n",
    "            y_hat,_ = self.forward(inputs[i].reshape(1, -1))\n",
    "            outputs[i] = y_hat\n",
    "        return outputs"
   ]
  },
  {
   "cell_type": "code",
   "execution_count": 3,
   "id": "3c3981c0",
   "metadata": {},
   "outputs": [
    {
     "name": "stdout",
     "output_type": "stream",
     "text": [
      "对于数据： [0 0] ，计算值为 0.030635447101349477 判定值为： 0\n",
      "对于数据： [0 1] ，计算值为 0.9615206908794715 判定值为： 1\n",
      "对于数据： [1 0] ，计算值为 0.9778519429263112 判定值为： 1\n",
      "对于数据： [1 1] ，计算值为 0.03648110434624149 判定值为： 0\n"
     ]
    },
    {
     "data": {
      "image/png": "[encoded data removed]",
      "text/plain": [
       "<Figure size 432x288 with 1 Axes>"
      ]
     },
     "metadata": {},
     "output_type": "display_data"
    }
   ],
   "source": [
    "# 拟合XOR，输出为2个元素，隐藏层用5个神经元\n",
    "xor = BP_3layers1out(2, 5, 0.5)\n",
    "inputs = np.array([[0, 0], [0, 1], [1, 0], [1, 1]])\n",
    "outputs = np.array([0, 1, 1, 0])\n",
    "loss = xor.train(inputs, outputs, epochs=1000)\n",
    "plt.plot(range(len(loss)), loss)\n",
    "\n",
    "pre = xor.predict(inputs)\n",
    "for (x, y) in zip(inputs, pre):\n",
    "    if y < 0.5:\n",
    "        label = 0\n",
    "    else:\n",
    "        label = 1\n",
    "    print(\"对于数据：\", x, \"，计算值为\", y.item(), \"判定值为：\", label)"
   ]
  }
 ],
 "metadata": {
  "kernelspec": {
   "display_name": "Python 3",
   "language": "python",
   "name": "python3"
  },
  "language_info": {
   "codemirror_mode": {
    "name": "ipython",
    "version": 3
   },
   "file_extension": ".py",
   "mimetype": "text/x-python",
   "name": "python",
   "nbconvert_exporter": "python",
   "pygments_lexer": "ipython3",
   "version": "3.6.0"
  }
 },
 "nbformat": 4,
 "nbformat_minor": 5
}
