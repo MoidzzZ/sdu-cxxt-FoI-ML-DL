{
 "cells": [
  {
   "cell_type": "code",
   "execution_count": 1,
   "id": "9bb0d9ae",
   "metadata": {
    "collapsed": true
   },
   "outputs": [],
   "source": [
    "import numpy as np\n",
    "import matplotlib.pyplot as plt\n",
    "import math\n",
    "from scipy.ndimage import gaussian_filter1d\n",
    "%matplotlib inline"
   ]
  },
  {
   "cell_type": "code",
   "execution_count": 2,
   "id": "8e21f9f8",
   "metadata": {},
   "outputs": [],
   "source": [
    "# 定义使用tanh的三层BP且输出维度为1网络，指定输入，隐藏量层的维度\n",
    "class BP_3layers1out:\n",
    "    # 初始化权重矩阵和偏置向量，指定学习率\n",
    "    def __init__(self, num_inputs, num_hiddens, lr):\n",
    "        self.W1 = np.random.randn(num_inputs, num_hiddens)\n",
    "        self.b1 = np.random.randn(1, num_hiddens)\n",
    "        self.W2 = np.random.randn(num_hiddens, 1)\n",
    "        self.b2 = np.random.randn(1, 1)\n",
    "        self.lr = lr\n",
    "        self.num_inputs = num_inputs\n",
    "        self.num_hiddens = num_hiddens\n",
    "    \n",
    "    # 定义激活函数\n",
    "    def tanh(self, x):\n",
    "        return np.tanh(x)\n",
    "    \n",
    "    def dtanh(self, x):\n",
    "        return 1 - x**2\n",
    "        \n",
    "    # 定义损失函数SE\n",
    "    def loss_MSE(self, y_hat, y):\n",
    "        return 0.5 * np.sum((y_hat - y) ** 2) / len(y)\n",
    "    \n",
    "    # 前向传播\n",
    "    # x为一个数据向量\n",
    "    def forward(self, x):\n",
    "        # 先计算隐藏层\n",
    "        h = self.tanh(x @ self.W1 + self.b1)\n",
    "        # 返回隐藏层变量和输出\n",
    "        return h @ self.W2 + self.b2, h\n",
    "        \n",
    "    # 具体推导过程见笔记链接\n",
    "    # 反向传播更新\n",
    "    def bp(self, y_hat, y, h, x):\n",
    "        # 标量\n",
    "        dLdy = y_hat - y\n",
    "        # 标量对标量求导还是标量\n",
    "        dLdb2 = dLdy\n",
    "        # 标量对向量求导\n",
    "        # 等价于标量对向量中的每个元素求导，需要转置\n",
    "        dLdW2 = dLdb2 * h.T\n",
    "        # 标量对向量求导\n",
    "        dLdb1 = dLdy * self.W2.T * self.dtanh(h)\n",
    "        # 标量对矩阵求导\n",
    "        dLdW1 = x.T @ dLdb1\n",
    "\n",
    "        # 更新\n",
    "        return dLdb2, dLdW2, dLdb1, dLdW1\n",
    "        \n",
    "    \n",
    "    # 对有限的数据不断利用更新参数\n",
    "    # 增加一个批量大小，用于小批量梯度下降\n",
    "    def train(self, inputs, outputs, epochs=5000, batch_size=1):\n",
    "        loss =[]\n",
    "        for i in range(epochs):\n",
    "            index = np.random.choice(range(len(inputs)), size=batch_size)\n",
    "\n",
    "            dLdb2_ = 0\n",
    "            dLdW2_ = np.zeros((self.num_hiddens, 1))\n",
    "            dLdb1_ = np.zeros((1, self.num_hiddens))\n",
    "            dLdW1_ = np.zeros((self. num_inputs, self.num_hiddens))\n",
    "            for (x, y) in zip(inputs[index], outputs[index]):\n",
    "                # ndarry默认没有维度，需要通过reshape调整\n",
    "                x = x.reshape(1, -1)\n",
    "                y_hat, h = self.forward(x)\n",
    "                dLdb2, dLdW2, dLdb1, dLdW1 = self.bp(y_hat, y, h, x)\n",
    "                dLdb2_ += dLdb2\n",
    "                dLdW2_ += dLdW2\n",
    "                dLdb1_ += dLdb1\n",
    "                dLdW1_ += dLdW1\n",
    "            \n",
    "            self.b2 -= self.lr * dLdb2 / batch_size\n",
    "            self.W2 -= self.lr * dLdW2 / batch_size\n",
    "            self.b1 -= self.lr * dLdb1 / batch_size\n",
    "            self.W1 -= self.lr * dLdW1 / batch_size\n",
    "            \n",
    "            if i % 100 == 0:\n",
    "                loss.append(self.loss_MSE(self.predict(inputs), outputs))\n",
    "        return loss\n",
    "    \n",
    "    def predict(self, inputs):\n",
    "        outputs = np.zeros(len(inputs))\n",
    "        for i in range(len(inputs)):\n",
    "            y_hat,_ = self.forward(inputs[i].reshape(1, -1))\n",
    "            outputs[i] = y_hat\n",
    "        return outputs"
   ]
  },
  {
   "cell_type": "code",
   "execution_count": 3,
   "id": "c23e9620",
   "metadata": {
    "scrolled": true
   },
   "outputs": [
    {
     "data": {
      "text/plain": [
       "(-10.0, 10.0)"
      ]
     },
     "execution_count": 3,
     "metadata": {},
     "output_type": "execute_result"
    },
    {
     "data": {
      "image/png": "[encoded data removed]",
      "text/plain": [
       "<Figure size 432x288 with 1 Axes>"
      ]
     },
     "metadata": {},
     "output_type": "display_data"
    }
   ],
   "source": [
    "# 如果抽奇数，就会抽到0\n",
    "np.seterr(divide='ignore', invalid='ignore')\n",
    "# 通过在-pi/2到pi/2密集采样获得点\n",
    "x = np.linspace(-math.pi/2, math.pi/2, 500)\n",
    "y = 1/np.sin(x) + 1/np.cos(x)\n",
    "for i in range(len(y)):\n",
    "    if y[i] > 100:\n",
    "        y[i] = 100\n",
    "    if y[i] < -100:\n",
    "        y[i] = -100\n",
    "\n",
    "# 画图需要用scatter，不然在渐近线处会闭合\n",
    "# 适当限制y轴的范围有利于观察曲线走向，通过s指定点的大小\n",
    "plt.scatter(x, y, marker='.', s=1)\n",
    "plt.ylim(-10, 10)"
   ]
  },
  {
   "cell_type": "code",
   "execution_count": 4,
   "id": "03e87abb",
   "metadata": {},
   "outputs": [],
   "source": [
    "# 拟合y=1/sinx+1/cosx，输入为1个元素，隐藏层用30个神经元\n",
    "func = BP_3layers1out(1, 50, 0.1)\n",
    "loss = func.train(x, y, epochs= 200000, batch_size=80)"
   ]
  },
  {
   "cell_type": "code",
   "execution_count": 5,
   "id": "3f211170",
   "metadata": {},
   "outputs": [
    {
     "data": {
      "text/plain": [
       "[<matplotlib.lines.Line2D at 0x23917342048>]"
      ]
     },
     "execution_count": 5,
     "metadata": {},
     "output_type": "execute_result"
    },
    {
     "data": {
      "image/png": "[encoded data removed]",
      "text/plain": [
       "<Figure size 432x288 with 1 Axes>"
      ]
     },
     "metadata": {},
     "output_type": "display_data"
    }
   ],
   "source": [
    "loss_smooth = gaussian_filter1d(loss, sigma=5)\n",
    "plt.plot(range(len(loss)), loss_smooth)"
   ]
  },
  {
   "cell_type": "code",
   "execution_count": 6,
   "id": "4283e4f8",
   "metadata": {},
   "outputs": [
    {
     "data": {
      "text/plain": [
       "(-10.0, 10.0)"
      ]
     },
     "execution_count": 6,
     "metadata": {},
     "output_type": "execute_result"
    },
    {
     "data": {
      "image/png": "[encoded data removed]",
      "text/plain": [
       "<Figure size 432x288 with 1 Axes>"
      ]
     },
     "metadata": {},
     "output_type": "display_data"
    }
   ],
   "source": [
    "f = func.predict(x)\n",
    "plt.scatter(x, f, marker='.', s=1)\n",
    "plt.ylim(-10, 10)"
   ]
  }
 ],
 "metadata": {
  "kernelspec": {
   "display_name": "Python 3",
   "language": "python",
   "name": "python3"
  },
  "language_info": {
   "codemirror_mode": {
    "name": "ipython",
    "version": 3
   },
   "file_extension": ".py",
   "mimetype": "text/x-python",
   "name": "python",
   "nbconvert_exporter": "python",
   "pygments_lexer": "ipython3",
   "version": "3.6.0"
  }
 },
 "nbformat": 4,
 "nbformat_minor": 5
}
