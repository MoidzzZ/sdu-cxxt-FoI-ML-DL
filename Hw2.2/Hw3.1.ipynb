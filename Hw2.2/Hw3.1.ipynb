{
 "cells": [
  {
   "cell_type": "code",
   "execution_count": 1,
   "id": "8cf68f70",
   "metadata": {
    "collapsed": true
   },
   "outputs": [],
   "source": [
    "import numpy as np\n",
    "import matplotlib.pyplot as plt\n",
    "%matplotlib inline"
   ]
  },
  {
   "cell_type": "code",
   "execution_count": 2,
   "id": "f7127f67",
   "metadata": {},
   "outputs": [
    {
     "data": {
      "image/png": "[encoded data removed]",
      "text/plain": [
       "<Figure size 432x288 with 1 Axes>"
      ]
     },
     "metadata": {},
     "output_type": "display_data"
    }
   ],
   "source": [
    "# 生成两类数据\n",
    "# data1和data2是数据组成相同但顺序不同的数据集\n",
    "A_mean = [1,1]\n",
    "A_cov = [[1,0],[0,1]]\n",
    "\n",
    "B_mean = [-1,-1]\n",
    "B_cov = [[1,0],[0,1]]\n",
    "\n",
    "A1_x = np.random.multivariate_normal(A_mean, A_cov, 10)\n",
    "A2_x = np.random.multivariate_normal(A_mean, A_cov, 10)\n",
    "B1_x = np.random.multivariate_normal(B_mean, B_cov, 10)\n",
    "B2_x = np.random.multivariate_normal(B_mean, B_cov, 10)\n",
    "\n",
    "A_x = np.concatenate([A1_x, A2_x])\n",
    "B_x = np.concatenate([B1_x, B2_x])\n",
    "data1 = np.concatenate([A1_x, B1_x, A2_x, B2_x])\n",
    "data2 = np.concatenate([A1_x, A2_x, B1_x, B2_x])\n",
    "\n",
    "A_x1, A_x2 = A_x.T\n",
    "B_x1, B_x2 = B_x.T\n",
    "\n",
    "plt.scatter(A_x1, A_x2, c='b')\n",
    "plt.scatter(B_x1, B_x2, c='r')\n",
    "axes = plt.gca()"
   ]
  },
  {
   "cell_type": "code",
   "execution_count": 3,
   "id": "bb75b4da",
   "metadata": {},
   "outputs": [],
   "source": [
    "# 初始化theta\n",
    "theta1 = np.zeros(2)\n",
    "theta2 = np.zeros(2)\n",
    "\n",
    "# 初始化y1和y2\n",
    "y1 = [1] * 10 + [-1] * 10 + [1] * 10 + [-1] * 10 \n",
    "y2 = [1] * 20 + [-1] * 20"
   ]
  },
  {
   "cell_type": "code",
   "execution_count": 4,
   "id": "906374ac",
   "metadata": {},
   "outputs": [
    {
     "name": "stdout",
     "output_type": "stream",
     "text": [
      "count1: 6\n",
      "count2: 8\n"
     ]
    },
    {
     "data": {
      "text/plain": [
       "<matplotlib.legend.Legend at 0x22421b67b70>"
      ]
     },
     "execution_count": 4,
     "metadata": {},
     "output_type": "execute_result"
    },
    {
     "data": {
      "image/png": "[encoded data removed]",
      "text/plain": [
       "<Figure size 432x288 with 1 Axes>"
      ]
     },
     "metadata": {},
     "output_type": "display_data"
    }
   ],
   "source": [
    "# 对data1计算错误的点\n",
    "count1 = 0\n",
    "for i in range(len(data1)):\n",
    "    x = data1[i]\n",
    "    y_hat = np.sign(np.dot(theta1, x))\n",
    "    if y_hat != y1[i]:\n",
    "        theta1 += y1[i] * x\n",
    "        count1 += 1\n",
    "        \n",
    "count2 = 0\n",
    "for i in range(len(data2)):\n",
    "    x = data2[i]\n",
    "    y_hat = np.sign(np.dot(theta2, x))\n",
    "    if y_hat != y2[i]:\n",
    "        theta2 += y2[i] * x\n",
    "        count2 += 1\n",
    "        \n",
    "print(\"count1:\",count1)\n",
    "print(\"count2:\",count2)\n",
    "\n",
    "x1_vals = np.array(axes.get_xlim())\n",
    "\n",
    "# 实际上是x*theta = 0，等价变形即得到x2 * theta[1] + x1 * theta[0] = 0\n",
    "x2_vals1 = -1 * x1_vals * theta1[0] /  theta1[1]\n",
    "x2_vals2 = -1 * x1_vals * theta2[0] /  theta2[1]\n",
    "\n",
    "plt.scatter(A_x1, A_x2, c='b')\n",
    "plt.scatter(B_x1, B_x2, c='r')\n",
    "\n",
    "plt.plot(x1_vals, x2_vals1, '--')\n",
    "plt.plot(x1_vals, x2_vals2, '--')\n",
    "plt.legend([\"theta1\", \"theta2\"])"
   ]
  }
 ],
 "metadata": {
  "kernelspec": {
   "display_name": "Python 3",
   "language": "python",
   "name": "python3"
  },
  "language_info": {
   "codemirror_mode": {
    "name": "ipython",
    "version": 3
   },
   "file_extension": ".py",
   "mimetype": "text/x-python",
   "name": "python",
   "nbconvert_exporter": "python",
   "pygments_lexer": "ipython3",
   "version": "3.6.0"
  }
 },
 "nbformat": 4,
 "nbformat_minor": 5
}
