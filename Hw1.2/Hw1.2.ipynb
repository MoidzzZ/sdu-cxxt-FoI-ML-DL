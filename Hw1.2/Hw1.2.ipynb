{
 "cells": [
  {
   "cell_type": "code",
   "execution_count": 1,
   "id": "9717d876",
   "metadata": {
    "collapsed": true
   },
   "outputs": [],
   "source": [
    "import pandas as pd\n",
    "import math\n",
    "import matplotlib.pyplot as plt\n",
    "%matplotlib inline"
   ]
  },
  {
   "cell_type": "markdown",
   "id": "c6b7de13",
   "metadata": {},
   "source": [
    "老师给的网址上的数据集不太好用，从其他地方弄了一个数据集来\n",
    "1. 手动实现了K-fold\n",
    "2. 通过dataFrame节省计算时间\n",
    "3. 通过可视化对比不同K对算法的影响\n",
    "4. 选择确定的K测试算法的准确度"
   ]
  },
  {
   "cell_type": "code",
   "execution_count": 2,
   "id": "f87a5b3b",
   "metadata": {
    "collapsed": true,
    "scrolled": false
   },
   "outputs": [],
   "source": [
    "# 从当前目录下的数据集获取数据\n",
    "data = pd.read_csv('iris.csv', header=0, index_col=0)"
   ]
  },
  {
   "cell_type": "code",
   "execution_count": 3,
   "id": "3ae21cd7",
   "metadata": {
    "collapsed": true,
    "scrolled": false
   },
   "outputs": [],
   "source": [
    "# 利用pd的抽样函数打乱数据\n",
    "data = data.sample(frac=1)"
   ]
  },
  {
   "cell_type": "code",
   "execution_count": 4,
   "id": "a39c55a7",
   "metadata": {
    "collapsed": true,
    "scrolled": false
   },
   "outputs": [],
   "source": [
    "# 获取i位的整数索引\n",
    "def f_index(f_data, i):\n",
    "    length = len(f_data)\n",
    "    return math.floor(length * i)\n",
    "\n",
    "\n",
    "# 分成F折数据集与测试集两部分,分别是前90%和后10%\n",
    "data_F = data.iloc[:f_index(data, 0.9)].reset_index(drop=True)\n",
    "data_T = data.iloc[f_index(data, 0.9):].reset_index(drop=True)"
   ]
  },
  {
   "cell_type": "code",
   "execution_count": 5,
   "id": "7ef80043",
   "metadata": {
    "collapsed": true
   },
   "outputs": [],
   "source": [
    "# 通过F折验证确定超参数K：选取周围几个点\n",
    "def f_fold(f_data):\n",
    "    for i in range(10):\n",
    "        yield f_data.iloc[f_index(f_data, i/10): f_index(f_data, (i+1)/10)],\\\n",
    "            pd.concat([f_data.iloc[: f_index(f_data, i/10)], f_data.iloc[f_index(f_data, (i+1)/10):]], ignore_index=True)"
   ]
  },
  {
   "cell_type": "code",
   "execution_count": 6,
   "id": "84f19cee",
   "metadata": {
    "collapsed": true
   },
   "outputs": [],
   "source": [
    "# 计算距离的函数，将直接应用到dataframe上的每一行\n",
    "def distance(x):\n",
    "    return math.sqrt(x[0]**2 + x[1]**2 + x[2]** 2 + x[3] ** 2)"
   ]
  },
  {
   "cell_type": "code",
   "execution_count": 7,
   "id": "9ccb48e6",
   "metadata": {
    "scrolled": false
   },
   "outputs": [
    {
     "data": {
      "text/plain": [
       "(0.0, 1.0)"
      ]
     },
     "execution_count": 7,
     "metadata": {},
     "output_type": "execute_result"
    },
    {
     "data": {
      "image/png": "[encoded data removed]",
      "text/plain": [
       "<Figure size 432x288 with 1 Axes>"
      ]
     },
     "metadata": {},
     "output_type": "display_data"
    }
   ],
   "source": [
    "# 确定K值\n",
    "val_acc = []\n",
    "for k in range(3,20):\n",
    "    total = 0\n",
    "    right = 0\n",
    "    for data_val, data_tra in f_fold(data_F):\n",
    "        x_val = data_val.iloc[:,0:4]\n",
    "        y_val = data_val.iloc[:, [4]]\n",
    "        x_tra = data_tra.iloc[:,0:4]\n",
    "        y_tra = data_tra.iloc[:, [4]]\n",
    "        for i in range(len(x_val)):\n",
    "            total += 1\n",
    "            x1 = x_val.iloc[i]\n",
    "            minus = x_tra - x1\n",
    "            dis = minus.apply(lambda x : distance(x), axis=1)\n",
    "            y_spe = y_tra.iloc[dis.sort_values().index[0:k],0]\n",
    "            y_pre = y_spe.value_counts().idxmax()\n",
    "            if y_pre == y_val.iloc[i,0]:\n",
    "                right += 1\n",
    "    val_acc.append(right / total)\n",
    "    \n",
    "fig = plt.figure()\n",
    "pic = fig.add_subplot(1,1,1)\n",
    "pic.plot(range(3,20), val_acc)\n",
    "pic.set_ylim([0,1])"
   ]
  },
  {
   "cell_type": "code",
   "execution_count": 8,
   "id": "dfcd8aa0",
   "metadata": {},
   "outputs": [
    {
     "name": "stdout",
     "output_type": "stream",
     "text": [
      "采用K=5时的测试准确率为： 1.0\n"
     ]
    }
   ],
   "source": [
    "# 选择5作为K值在测试集上运行\n",
    "total = 0\n",
    "right = 0\n",
    "\n",
    "x_test = data_T.iloc[:,0:4]\n",
    "y_test = data_T.iloc[:, [4]]\n",
    "x_tra = data_F.iloc[:,0:4]\n",
    "y_tra = data_F.iloc[:, [4]]\n",
    "\n",
    "for i in range(len(x_test)):\n",
    "    total += 1\n",
    "    x1 = x_test.iloc[i]\n",
    "    minus = x_tra - x1\n",
    "    dis = minus.apply(lambda x : distance(x), axis=1)\n",
    "    y_spe = y_tra.iloc[dis.sort_values().index[0:5],0]\n",
    "    y_pre = y_spe.value_counts().idxmax()\n",
    "    if y_pre == y_test.iloc[i,0]:\n",
    "        right += 1\n",
    "        \n",
    "print(\"采用K=5时的测试准确率为：\", right/total)"
   ]
  }
 ],
 "metadata": {
  "kernelspec": {
   "display_name": "Python 3",
   "language": "python",
   "name": "python3"
  },
  "language_info": {
   "codemirror_mode": {
    "name": "ipython",
    "version": 3
   },
   "file_extension": ".py",
   "mimetype": "text/x-python",
   "name": "python",
   "nbconvert_exporter": "python",
   "pygments_lexer": "ipython3",
   "version": "3.6.0"
  }
 },
 "nbformat": 4,
 "nbformat_minor": 5
}
