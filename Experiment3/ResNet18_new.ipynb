{
 "cells": [
  {
   "cell_type": "code",
   "execution_count": 1,
   "id": "ba9af42a",
   "metadata": {},
   "outputs": [
    {
     "name": "stdout",
     "output_type": "stream",
     "text": [
      "_CudaDeviceProperties(name='NVIDIA GeForce RTX 3080', major=8, minor=6, total_memory=10239MB, multi_processor_count=68)\n"
     ]
    }
   ],
   "source": [
    "# 先导入torch\n",
    "import torch\n",
    "import torchvision\n",
    "from torch import nn\n",
    "from torch.utils import data\n",
    "from torchvision import transforms\n",
    "from d2l import torch as d2l\n",
    "from torch.nn import functional as F\n",
    "import numpy as np\n",
    "from tqdm import tqdm\n",
    "\n",
    "# 然后晒一下自己的显卡，美滋滋^ ^\n",
    "if torch.cuda.is_available():\n",
    "    print(torch.cuda.get_device_properties(0))"
   ]
  },
  {
   "cell_type": "code",
   "execution_count": 2,
   "id": "8264312b",
   "metadata": {},
   "outputs": [],
   "source": [
    "def load_data(batch_size):\n",
    "    # 常规的CV操作一下数据\n",
    "    # 加入数据增广，我也不知道这种神奇的参数哪里来的\n",
    "    # 反正只做普通的操作不行\n",
    "    # 然后做了这一套操作之后，就不好展示图片了\n",
    "    # trans = transforms.ToTensor()\n",
    "    train_augs = torchvision.transforms.Compose([transforms.RandomCrop(32, padding=4),\n",
    "                                                 torchvision.transforms.RandomHorizontalFlip(),\n",
    "                                                 torchvision.transforms.ToTensor(),\n",
    "                                                 transforms.Normalize((0.4914, 0.4822, 0.4465), (0.2023, 0.1994, 0.2010))])\n",
    "    test_augs = torchvision.transforms.Compose([torchvision.transforms.ToTensor(),\n",
    "                                                transforms.Normalize((0.4914, 0.4822, 0.4465), (0.2023, 0.1994, 0.2010))])\n",
    "    \n",
    "    data_train = torchvision.datasets.CIFAR10(root=\"data\", train=True, transform=train_augs)\n",
    "    data_test = torchvision.datasets.CIFAR10(root=\"data\", train=False, transform=test_augs)\n",
    "    # 继续调用torch的库函数，自己写真的麻烦死，这个工作数得根据自己硬件的情况改\n",
    "    # 然后这里返回的是迭代器，比自己写的循环好多了，虽然也就是个yield的事\n",
    "    return (data.DataLoader(data_train, batch_size, shuffle=True,num_workers=4),\n",
    "            data.DataLoader(data_test, batch_size, shuffle=False,num_workers=4))"
   ]
  },
  {
   "cell_type": "code",
   "execution_count": 3,
   "id": "45ae3774",
   "metadata": {},
   "outputs": [],
   "source": [
    "# 如果块的前后channel发生改变\n",
    "# 就需要用一个单位卷积核来改变输入的channel用来相加\n",
    "class Residual(nn.Module):\n",
    "    def __init__(self, input_channels, num_channels, change=False, strides=1):\n",
    "        super(Residual, self).__init__()\n",
    "        self.conv1 = nn.Conv2d(input_channels, num_channels, kernel_size=3, padding=1, stride=strides)\n",
    "        self.conv2 = nn.Conv2d(num_channels, num_channels, kernel_size=3, padding=1)\n",
    "        if change:\n",
    "            self.conv3 = nn.Conv2d(input_channels, num_channels, kernel_size=1, stride=strides)\n",
    "        else:\n",
    "            self.conv3 = None\n",
    "        self.bn1 = nn.BatchNorm2d(num_channels)\n",
    "        self.bn2 = nn.BatchNorm2d(num_channels)\n",
    "    \n",
    "    def forward(self, X):\n",
    "        Y = F.relu(self.bn1(self.conv1(X)))\n",
    "        Y = self.bn2(self.conv2(Y))\n",
    "        if self.conv3:\n",
    "            X = self.conv3(X)\n",
    "        Y += X\n",
    "        return F.relu(Y)"
   ]
  },
  {
   "cell_type": "code",
   "execution_count": 4,
   "id": "1def3edd",
   "metadata": {},
   "outputs": [],
   "source": [
    "block1 = nn.Sequential(nn.Conv2d(3, 64, kernel_size=3, stride=1, padding=1, bias=False), \n",
    "                   nn.BatchNorm2d(64), nn.ReLU(), \n",
    "                   # nn.MaxPool2d(kernel_size=3, stride=2, padding=1)\n",
    "                    )\n",
    "\n",
    "block2 = nn.Sequential(Residual(64, 64), Residual(64, 64))\n",
    "\n",
    "block3 = nn.Sequential(Residual(64, 128, change=True, strides=2), Residual(128, 128))\n",
    "\n",
    "block4 = nn.Sequential(Residual(128, 256, change=True, strides=2), Residual(256, 256))\n",
    "\n",
    "block5 = nn.Sequential(Residual(256, 512, change=True, strides=2), Residual(512, 512))\n",
    "\n",
    "net = nn.Sequential(block1, block2, block3, block4, block5, \n",
    "                    nn.AdaptiveAvgPool2d(1), nn.Flatten(), nn.Linear(512, 10))"
   ]
  },
  {
   "cell_type": "code",
   "execution_count": 5,
   "id": "6189763e",
   "metadata": {},
   "outputs": [],
   "source": [
    "# 直接把LeNet的搬过来\n",
    "def test(net, test_iter, device=None):\n",
    "    if isinstance(net, nn.Module):\n",
    "        net.eval()  # 设置为评估模式，停止dropout和batchnorm\n",
    "        if not device:\n",
    "            device = next(iter(net.parameters())).device\n",
    "    metric = d2l.Accumulator(2)\n",
    "    # 同样要阻挡梯度的传播\n",
    "    with torch.no_grad():\n",
    "        for X, y in test_iter:\n",
    "            X = X.to(device)\n",
    "            y = y.to(device)\n",
    "            # 后者为数组中元素的个数\n",
    "            metric.add(d2l.accuracy(net(X), y), y.numel())\n",
    "    return metric[0] / metric[1]\n",
    "\n",
    "def train(net, train_iter, test_iter, num_epochs, lr, device):\n",
    "    net.to(device)\n",
    "    optimizer = torch.optim.Adam(net.parameters(), lr=lr)\n",
    "    loss = nn.CrossEntropyLoss()\n",
    "    num_batches = len(train_iter)\n",
    "    for i in range(10):\n",
    "        with tqdm(total=int(num_epochs/10), desc='Iteration %d' % i) as pbar:\n",
    "            for epoch in range(int(num_epochs/10)):\n",
    "                metric = d2l.Accumulator(3)\n",
    "                net.train()\n",
    "                for i, (X, y) in enumerate(train_iter):\n",
    "                    optimizer.zero_grad()\n",
    "                    X, y = X.to(device), y.to(device)\n",
    "                    y_hat = net(X)\n",
    "                    l = loss(y_hat, y)\n",
    "                    l.backward()\n",
    "                    optimizer.step()\n",
    "                    with torch.no_grad():\n",
    "                        metric.add(l * X.shape[0], d2l.accuracy(y_hat, y), X.shape[0])\n",
    "                    train_l = metric[0] / metric[2]\n",
    "                    train_acc = metric[1] / metric[2]\n",
    "                # 计算这个epoch下，测试集上的准确率\n",
    "                test_acc = test(net, test_iter)\n",
    "                if (epoch + 1) % 5 == 0:\n",
    "                    pbar.set_postfix({\n",
    "                        'train_loss':\n",
    "                        '%.3f' % train_l,\n",
    "                        'train_acc':\n",
    "                        '%.3f' % train_acc,\n",
    "                        'test_acc':\n",
    "                        '%.3f' % test_acc\n",
    "                    })\n",
    "                pbar.update(1)\n",
    "    print(test_acc)"
   ]
  },
  {
   "cell_type": "code",
   "execution_count": 6,
   "id": "2cd4d064",
   "metadata": {},
   "outputs": [
    {
     "name": "stderr",
     "output_type": "stream",
     "text": [
      "Iteration 0: 100%|██████████████████| 10/10 [04:28<00:00, 26.85s/it, train_loss=0.566, train_acc=0.801, test_acc=0.783]\n",
      "Iteration 1: 100%|██████████████████| 10/10 [04:25<00:00, 26.57s/it, train_loss=0.324, train_acc=0.888, test_acc=0.833]\n",
      "Iteration 2: 100%|██████████████████| 10/10 [04:26<00:00, 26.69s/it, train_loss=0.217, train_acc=0.923, test_acc=0.836]\n",
      "Iteration 3: 100%|██████████████████| 10/10 [04:24<00:00, 26.45s/it, train_loss=0.157, train_acc=0.944, test_acc=0.873]\n",
      "Iteration 4: 100%|██████████████████| 10/10 [04:25<00:00, 26.51s/it, train_loss=0.118, train_acc=0.958, test_acc=0.892]\n",
      "Iteration 5: 100%|██████████████████| 10/10 [04:25<00:00, 26.50s/it, train_loss=0.091, train_acc=0.968, test_acc=0.897]\n",
      "Iteration 6: 100%|██████████████████| 10/10 [04:23<00:00, 26.39s/it, train_loss=0.076, train_acc=0.973, test_acc=0.892]\n",
      "Iteration 7: 100%|██████████████████| 10/10 [04:27<00:00, 26.72s/it, train_loss=0.067, train_acc=0.977, test_acc=0.894]\n",
      "Iteration 8: 100%|██████████████████| 10/10 [04:21<00:00, 26.13s/it, train_loss=0.060, train_acc=0.980, test_acc=0.890]\n",
      "Iteration 9: 100%|██████████████████| 10/10 [04:26<00:00, 26.62s/it, train_loss=0.054, train_acc=0.982, test_acc=0.895]"
     ]
    },
    {
     "name": "stdout",
     "output_type": "stream",
     "text": [
      "0.8948\n"
     ]
    },
    {
     "name": "stderr",
     "output_type": "stream",
     "text": [
      "\n"
     ]
    }
   ],
   "source": [
    "lr, num_epochs, batch_size = 0.01, 100, 256\n",
    "train_iter, test_iter = load_data(batch_size)\n",
    "device = torch.device('cuda' if torch.cuda.is_available() else 'cpu')\n",
    "train(net, train_iter, test_iter, num_epochs, lr, device)\n",
    "# 原始论文中Resnet20是8.75%错误率\n",
    "# 不主动初始化，只用SGD是75%\n",
    "# 改用Adam也就80%左右\n",
    "# 我又去看了原始论文，得用图像增广\n",
    "# 缓解了过拟合，但得更长时间的训练\n",
    "# 加入标准化，达到85%\n",
    "# 加入填充裁剪，达到88%\n",
    "# 去掉max层，达到90%\n",
    "\n",
    "torch.save(net.state_dict(), './test.pth')"
   ]
  }
 ],
 "metadata": {
  "kernelspec": {
   "display_name": "Python 3 (ipykernel)",
   "language": "python",
   "name": "python3"
  },
  "language_info": {
   "codemirror_mode": {
    "name": "ipython",
    "version": 3
   },
   "file_extension": ".py",
   "mimetype": "text/x-python",
   "name": "python",
   "nbconvert_exporter": "python",
   "pygments_lexer": "ipython3",
   "version": "3.8.13"
  }
 },
 "nbformat": 4,
 "nbformat_minor": 5
}
