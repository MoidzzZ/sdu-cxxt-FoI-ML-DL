{
 "cells": [
  {
   "cell_type": "code",
   "execution_count": 1,
   "id": "55fdc3da",
   "metadata": {
    "collapsed": true
   },
   "outputs": [],
   "source": [
    "import pandas as pd\n",
    "import matplotlib.pyplot as plt\n",
    "import numpy as np"
   ]
  },
  {
   "cell_type": "code",
   "execution_count": 2,
   "id": "96e7c038",
   "metadata": {},
   "outputs": [],
   "source": [
    "# 四维数据\n",
    "# 其实要找到主成分就是找到方差最大\n",
    "# 可以去求协方差矩阵的最大特征值对应的特征向量\n",
    "# 但这样不符合机器学习\n",
    "# 所以还是通过梯度上升/下降来学习\n",
    "# 先从读数据集开始，跟前面一次作业差不多\n",
    "# 因为不需要做K折一些的，而且是用全部数据所以没必要打乱\n",
    "data = pd.read_csv('iris.csv', header=0, index_col=0)\n",
    "\n",
    "# 默认的数据集index是从1开始的，非常不适合程序员啊，所以改一下\n",
    "data.index = data.index-1\n",
    "\n",
    "# 然后先标准化，得在不同的列上处理（不同特征不能混在一起）\n",
    "# 这个地方，有一个标准化和归一化的争议\n",
    "# 首先，为了满足假设需要的是均值为0，方差为1\n",
    "# 然后，英语一个是Standardization，一个是Normalization\n",
    "# 网上对这两个概念弄反的很多\n",
    "# 互联网发展起来后真烦\n",
    "# 尤其是那些乱用爬虫的，还有就是那些发现问题不积极讨论的\n",
    "# 然后因为老师说最好不要用ML库，我就自己手写一个\n",
    "def standarlize(data):\n",
    "    # 保护原有数据\n",
    "    data_ = data.copy()\n",
    "    data_ = data_.iloc[:, :-1]\n",
    "    # 不要遍历了最后一行，我就因为这个原因一直说有非数值的\n",
    "    for index, row in data_.iteritems():\n",
    "        data_.iloc[:][index] = (row - row.mean()) / row.std()\n",
    "    return data_\n",
    "\n",
    "data_stand = standarlize(data)\n",
    "# 通过DataFrame的操作直接获得第二问的数据\n",
    "data_Setorsa = data.loc[data['Species']=='setosa']\n",
    "# 同样提前标准化一下\n",
    "data_stand_Setorsa = standarlize(data_Setorsa)"
   ]
  },
  {
   "cell_type": "code",
   "execution_count": 3,
   "id": "f6829311",
   "metadata": {},
   "outputs": [],
   "source": [
    "# 接下来开始寻找第一主成分\n",
    "# 整体分析就是让投影和最大\n",
    "# 那么关于v利用梯度上升即可\n",
    "# 概念啥的见笔记\n",
    "# 突然意识到用pd并不是很好处理纯数值数据，引入并转换为np\n",
    "data_stand = np.array(data_stand)\n",
    "data_stand_Setorsa = np.array(data_stand_Setorsa)\n",
    "\n",
    "# 定义优化目标\n",
    "def f(v, X):\n",
    "    return np.sum((X.dot(v)**2)) /len(X)\n",
    "\n",
    "# 定义梯度，平方的2拿下来会被学习率吸收\n",
    "def df(v, X):\n",
    "    return X.T.dot(X.dot(v)) / len(X)\n",
    "\n",
    "# 需要将梯度更新后的向量再更新为单位向量\n",
    "def norm(v):\n",
    "    return v / np.linalg.norm(v)"
   ]
  },
  {
   "cell_type": "code",
   "execution_count": 4,
   "id": "f08e4c04",
   "metadata": {},
   "outputs": [],
   "source": [
    "# 梯度上升，两个结束条件，一个收敛标志\n",
    "def gradient_ascent(X, lr=0.1, epsilon=1e-8):\n",
    "    v = norm(np.random.random(X.shape[1]))\n",
    "    print(\"初始化单位向量为\", v)\n",
    "    flag = False\n",
    "    i = 0\n",
    "    while i < 10000:\n",
    "        v_ = v.copy()\n",
    "        gradient = df(v, X)\n",
    "        v += lr * gradient\n",
    "        v = norm(v)\n",
    "        i+=1\n",
    "        if abs(f(v, X) - f(v_, X)) < epsilon:\n",
    "            flag = True\n",
    "            break\n",
    "        \n",
    "    if flag:\n",
    "        print(\"已经收敛，迭代次数为\",i, \"。最终的1st主成分为\", v)\n",
    "        print(\"重构误差为：\", error(X, v))\n",
    "    else:\n",
    "        print(\"没有收敛\")"
   ]
  },
  {
   "cell_type": "code",
   "execution_count": 5,
   "id": "71212361",
   "metadata": {
    "collapsed": true
   },
   "outputs": [],
   "source": [
    "# 计算重构误差，因为移动到了原点附近\n",
    "# 所以就是计算所有点的模减去v的模开根号后的和\n",
    "# 想了想好像先计算向量，然后再计算距离和也可以\n",
    "def error(X, v):\n",
    "    v = v.reshape(1, -1)\n",
    "    err = X - (X.dot(v.T)).dot(v)\n",
    "    err_d = np.sum(err**2, axis=1)\n",
    "    err_sum = np.sum(np.sqrt(err_d))\n",
    "    return err_sum"
   ]
  },
  {
   "cell_type": "code",
   "execution_count": 6,
   "id": "41b431b3",
   "metadata": {},
   "outputs": [
    {
     "name": "stdout",
     "output_type": "stream",
     "text": [
      "初始化单位向量为 [0.51537887 0.77533153 0.24154966 0.27367754]\n",
      "已经收敛，迭代次数为 61 。最终的1st主成分为 [ 0.52110187 -0.2692594   0.58041544  0.56486293]\n",
      "重构误差为： 131.81257698530374\n"
     ]
    }
   ],
   "source": [
    "gradient_ascent(data_stand)"
   ]
  },
  {
   "cell_type": "code",
   "execution_count": 7,
   "id": "38a40cf1",
   "metadata": {},
   "outputs": [
    {
     "name": "stdout",
     "output_type": "stream",
     "text": [
      "初始化单位向量为 [0.09545448 0.69743357 0.38402957 0.59749155]\n",
      "已经收敛，迭代次数为 81 。最终的1st主成分为 [0.60434354 0.5755267  0.37555997 0.40310373]\n",
      "重构误差为： 60.89127796815511\n"
     ]
    }
   ],
   "source": [
    "gradient_ascent(data_stand_Setorsa)"
   ]
  }
 ],
 "metadata": {
  "kernelspec": {
   "display_name": "Python 3",
   "language": "python",
   "name": "python3"
  },
  "language_info": {
   "codemirror_mode": {
    "name": "ipython",
    "version": 3
   },
   "file_extension": ".py",
   "mimetype": "text/x-python",
   "name": "python",
   "nbconvert_exporter": "python",
   "pygments_lexer": "ipython3",
   "version": "3.6.0"
  }
 },
 "nbformat": 4,
 "nbformat_minor": 5
}
