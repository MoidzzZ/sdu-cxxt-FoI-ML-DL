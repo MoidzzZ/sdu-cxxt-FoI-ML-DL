{
 "cells": [
  {
   "cell_type": "code",
   "execution_count": 1,
   "id": "e7f8966b",
   "metadata": {
    "collapsed": true
   },
   "outputs": [],
   "source": [
    "import numpy as np\n",
    "from sklearn.feature_extraction.text import CountVectorizer "
   ]
  },
  {
   "cell_type": "markdown",
   "id": "68f8acca",
   "metadata": {},
   "source": [
    "最上面抽取特征这一部分学习了github上学长的代码，不过学长的代码也存在一定的问题。\n",
    "包括：\n",
    "1. 文章分类时循环的次数\n",
    "2. 对频数统计的理解\n",
    "3. MLE计算phi时使用的分母\n",
    "\n",
    "后面预测部分都是我自己完成的"
   ]
  },
  {
   "cell_type": "code",
   "execution_count": 2,
   "id": "f490dc68",
   "metadata": {
    "collapsed": true
   },
   "outputs": [],
   "source": [
    "# 读取联邦党人文集文件\n",
    "papers = open('The-Federalist-Papers.txt').read()\n",
    "#将paper按篇划分为列表\n",
    "split_paper_list = papers.split('FEDERALIST No. ')"
   ]
  },
  {
   "cell_type": "code",
   "execution_count": 3,
   "id": "1fcba7e8",
   "metadata": {
    "collapsed": true
   },
   "outputs": [],
   "source": [
    "# 存放各个类别paper的列表\n",
    "H = []\n",
    "M = []\n",
    "unknown = []\n",
    "# 把未知文章的篇数号加到列表中\n",
    "unknownIndex = []"
   ]
  },
  {
   "cell_type": "code",
   "execution_count": 4,
   "id": "8e92aa27",
   "metadata": {
    "collapsed": true
   },
   "outputs": [],
   "source": [
    "# 遍历85篇paper查找能用的上的三种分类\n",
    "# 由于文章编号从1开始因此前面插入一位\n",
    "for i in range(1, 86):\n",
    "    paper = split_paper_list[i]\n",
    "    if \"HAMILTON OR MADISON\" in paper:\n",
    "        unknown.append(paper)\n",
    "        unknownIndex.append(i)\n",
    "    elif \"HAMILTON AND MADISON\" in paper:\n",
    "        pass\n",
    "    elif \"HAMILTON\" in paper:\n",
    "        H.append(paper)\n",
    "    elif \"MADISON\" in paper:\n",
    "        M.append(paper)\n",
    "\n",
    "# 把他们合成一个列表\n",
    "papers_list = H + M + unknown\n",
    "\n",
    "# 统计文章的出现次数超过60词的高频词,组成一个词向量\n",
    "Vectorizer = CountVectorizer(min_df=60)\n",
    "#将列表送入Vectorizer统计高频词和次数\n",
    "feature = Vectorizer.fit_transform(papers_list).toarray()"
   ]
  },
  {
   "cell_type": "code",
   "execution_count": 5,
   "id": "3c315b8a",
   "metadata": {
    "collapsed": true
   },
   "outputs": [],
   "source": [
    "# 通过MAP计算theta和phi\n",
    "# 将分好的feature向量切分为三个种类的列表\n",
    "feature_H = feature[:len(H), :]\n",
    "feature_M = feature[len(H):len(H) + len(M), :]\n",
    "feature_Unknown = feature[len(H) + len(M):, :]"
   ]
  },
  {
   "cell_type": "code",
   "execution_count": 6,
   "id": "ac4ddee7",
   "metadata": {
    "collapsed": true
   },
   "outputs": [],
   "source": [
    "# 各关键词关于文章的分布概率\n",
    "feature_H_sum = feature_H.sum(axis=0)\n",
    "feature_H_all = feature_H_sum.sum()\n",
    "feature_H_sum = np.array(feature_H_sum)\n",
    "theta0 = feature_H_sum / feature_H_all\n",
    "\n",
    "feature_M_sum = feature_M.sum(axis=0)\n",
    "feature_M_all = feature_M_sum.sum()\n",
    "feature_M_sum = np.array(feature_M_sum)\n",
    "theta1 = feature_M_sum / feature_M_all"
   ]
  },
  {
   "cell_type": "code",
   "execution_count": 7,
   "id": "7f9af570",
   "metadata": {
    "collapsed": true
   },
   "outputs": [],
   "source": [
    "# 文章的分布概率\n",
    "phi0 = len(H) / (len(H) + len(M))"
   ]
  },
  {
   "cell_type": "code",
   "execution_count": 8,
   "id": "9b66c755",
   "metadata": {},
   "outputs": [
    {
     "name": "stdout",
     "output_type": "stream",
     "text": [
      "No 49 预测结果为: Madison\n",
      "No 50 预测结果为: Madison\n",
      "No 51 预测结果为: Madison\n",
      "No 52 预测结果为: Madison\n",
      "No 53 预测结果为: Madison\n",
      "No 54 预测结果为: Madison\n",
      "No 55 预测结果为: Madison\n",
      "No 56 预测结果为: Madison\n",
      "No 57 预测结果为: Madison\n",
      "No 62 预测结果为: Madison\n",
      "No 63 预测结果为: Madison\n"
     ]
    }
   ],
   "source": [
    "# 将参数做成ndarry方便计算\n",
    "theta = np.vstack((theta0, theta1))\n",
    "phi = np.array([phi0, 1-phi0])\n",
    "\n",
    "def naiveBayes(x_test, theta, phi):\n",
    "    # 将特征词向量转为01序列\n",
    "    x_test = np.where(x_test == 0, 0, 1)\n",
    "    # 计算p(x|y)\n",
    "    mul = x_test * theta\n",
    "    #比较概率大小进行判断\n",
    "    if (np.prod(mul[0]) * phi[0]) > (np.prod(mul[1]) * phi[1]):\n",
    "        print(\"Hamilton\")\n",
    "    else:\n",
    "        print(\"Madison\")\n",
    "\n",
    "#循环输出最后的预测结果\n",
    "for index in range(11):\n",
    "    print(\"No {} 预测结果为: \".format(unknownIndex[index]), end='')\n",
    "    predict = naiveBayes(feature_Unknown[index], theta, phi)"
   ]
  }
 ],
 "metadata": {
  "kernelspec": {
   "display_name": "Python 3",
   "language": "python",
   "name": "python3"
  },
  "language_info": {
   "codemirror_mode": {
    "name": "ipython",
    "version": 3
   },
   "file_extension": ".py",
   "mimetype": "text/x-python",
   "name": "python",
   "nbconvert_exporter": "python",
   "pygments_lexer": "ipython3",
   "version": "3.6.0"
  }
 },
 "nbformat": 4,
 "nbformat_minor": 5
}
