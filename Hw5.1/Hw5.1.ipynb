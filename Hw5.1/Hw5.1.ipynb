{
 "cells": [
  {
   "cell_type": "code",
   "execution_count": 1,
   "id": "dd1d7ac3",
   "metadata": {
    "collapsed": true
   },
   "outputs": [],
   "source": [
    "import pandas as pd\n",
    "import numpy as np\n",
    "import matplotlib.pyplot as plt\n",
    "import math\n",
    "%matplotlib inline"
   ]
  },
  {
   "cell_type": "code",
   "execution_count": 2,
   "id": "a7780bb5",
   "metadata": {},
   "outputs": [
    {
     "data": {
      "text/plain": [
       "<matplotlib.collections.PathCollection at 0x2a67edaec88>"
      ]
     },
     "execution_count": 2,
     "metadata": {},
     "output_type": "execute_result"
    },
    {
     "data": {
      "image/png": "[encoded data removed]",
      "text/plain": [
       "<Figure size 432x288 with 1 Axes>"
      ]
     },
     "metadata": {},
     "output_type": "display_data"
    }
   ],
   "source": [
    "A_mean = [0,0]\n",
    "A_cov = [[1,0],[0,1]]\n",
    "\n",
    "A_data = pd.DataFrame(np.random.multivariate_normal(A_mean, A_cov, 25), columns=['x1', 'x2'])\n",
    "\n",
    "B_mean = [2,0]\n",
    "B_cov = [[0.5,0],[0,1]]\n",
    "\n",
    "B_data = pd.DataFrame(np.random.multivariate_normal(B_mean, B_cov, 25), columns=['x1', 'x2'])\n",
    "\n",
    "C_mean = [0,2]\n",
    "C_cov = [[1,0.3],[0.3,1]]\n",
    "\n",
    "C_data = pd.DataFrame(np.random.multivariate_normal(C_mean, C_cov, 25), columns=['x1', 'x2'])\n",
    "\n",
    "data = pd.concat([A_data, B_data, C_data], ignore_index=True)\n",
    "\n",
    "A_x1 = data.iloc[:25]['x1']\n",
    "A_x2 = data.iloc[:25]['x2']\n",
    "plt.scatter(A_x1, A_x2, c='y')\n",
    "B_x1 = data.iloc[25:50]['x1']\n",
    "B_x2 = data.iloc[25:50]['x2']\n",
    "plt.scatter(B_x1, B_x2, c='pink')\n",
    "C_x1 = data.iloc[50:]['x1']\n",
    "C_x2 = data.iloc[50:]['x2']\n",
    "plt.scatter(C_x1, C_x2, c='grey')"
   ]
  },
  {
   "cell_type": "code",
   "execution_count": 3,
   "id": "693ed34d",
   "metadata": {
    "collapsed": true
   },
   "outputs": [],
   "source": [
    "# 对两个点求距离\n",
    "def distance(x, y):\n",
    "    return math.sqrt((x[0] - y[0])**2 + (x[1] - y[1])**2)\n",
    "\n",
    "\n",
    "# 三种初始化中心的方式\n",
    "def initial(data, pre, method='random'):\n",
    "    if method == 'random':\n",
    "        center = data.sample(n=3)\n",
    "    elif method == 'far':\n",
    "        # 随机获取中心1\n",
    "        center1 = data.sample(n=1)\n",
    "        # 所有点到中心1的距离\n",
    "        dis1 = data.apply(lambda x: distance(x, center1.iloc[0]), axis=1)\n",
    "        indice = dis1.sort_values().index[-1]\n",
    "        # 选择最远的作为中心2\n",
    "        center2 = pd.DataFrame(data.iloc[indice]).T\n",
    "        # 所有点到中心2的距离\n",
    "        dis2 = data.apply(lambda x: distance(x, center2.iloc[0]), axis=1)\n",
    "        dis = dis1 + dis2\n",
    "        indice = dis.sort_values().index[-1]\n",
    "        # 选择距离和最远的点作为中心3\n",
    "        center3 = pd.DataFrame(data.iloc[indice]).T\n",
    "        center = pd.concat([center1, center2, center3])\n",
    "    elif method == '++':\n",
    "        # 随机获取中心1\n",
    "        center1 = data.sample(n=1)\n",
    "        # 所有点到中心1的距离\n",
    "        dis1 = data.apply(lambda x: distance(x, center1.iloc[0]), axis=1)\n",
    "        pro1 = dis1/dis1.sum()\n",
    "        indice = np.random.choice(np.arange(len(pro1)), p=pro1)\n",
    "        center2 = pd.DataFrame(data.iloc[indice]).T\n",
    "        # 所有点到中心2的距离\n",
    "        dis2 = data.apply(lambda x: distance(x, center2.iloc[0]), axis=1)\n",
    "        dis = dis1 + dis2\n",
    "        pro2 = dis/dis.sum()\n",
    "        indice = np.random.choice(np.arange(len(pro2)), p=pro2)\n",
    "        # 选择距离和最远的点作为中心3\n",
    "        center3 = pd.DataFrame(data.iloc[indice]).T\n",
    "        center = pd.concat([center1, center2, center3])\n",
    "    else:\n",
    "        print(\"指定方式有误，选择随机生成中心\")\n",
    "        center = data.sample(n=3)\n",
    "    for i in range(3):\n",
    "        pre[center.index[i]] = i + 1\n",
    "    return center"
   ]
  },
  {
   "cell_type": "code",
   "execution_count": 4,
   "id": "77cf8eb4",
   "metadata": {
    "collapsed": true
   },
   "outputs": [],
   "source": [
    "def classify(data, pre, center):\n",
    "    # 分别计算到三个点的距离\n",
    "    dis1 = data.apply(lambda x: distance(x, center.iloc[0]), axis=1)\n",
    "    dis2 = data.apply(lambda x: distance(x, center.iloc[1]), axis=1)\n",
    "    dis3 = data.apply(lambda x: distance(x, center.iloc[2]), axis=1)\n",
    "    for i in range(len(data)):\n",
    "        if dis1[i] < dis2[i]:\n",
    "            if dis1[i] < dis3[i]:\n",
    "                pre[i] = 1\n",
    "            else:\n",
    "                pre[i] = 3\n",
    "        else:\n",
    "            if dis2[i] < dis3[i]:\n",
    "                pre[i] = 2\n",
    "            else:\n",
    "                pre[i] = 3"
   ]
  },
  {
   "cell_type": "code",
   "execution_count": 5,
   "id": "9b79273f",
   "metadata": {
    "collapsed": true
   },
   "outputs": [],
   "source": [
    "# 求中点即求平均值，采用增量式更新(其实没有降低复杂度，因为处理的是内存信息而不是流式数据）\n",
    "def find(data, pre, center):\n",
    "    center[:][:] = 0\n",
    "    count = np.zeros(3)\n",
    "    for i in range(len(data)):\n",
    "        if pre[i] == 1:\n",
    "            count[0] += 1\n",
    "            center.iloc[0] = center.iloc[0] + (data.iloc[i] - center.iloc[0])/count[0]\n",
    "        if pre[i] == 2:\n",
    "            count[1] += 1\n",
    "            center.iloc[1] = center.iloc[1] + (data.iloc[i] - center.iloc[1])/count[1]\n",
    "        if pre[i] == 3:\n",
    "            count[2] += 1\n",
    "            center.iloc[2] = center.iloc[2] + (data.iloc[i] - center.iloc[2])/count[2]"
   ]
  },
  {
   "cell_type": "code",
   "execution_count": 6,
   "id": "946e1712",
   "metadata": {},
   "outputs": [
    {
     "name": "stdout",
     "output_type": "stream",
     "text": [
      "已经收敛\n",
      "[3. 1. 1. 1. 3. 1. 3. 1. 1. 1. 1. 1. 3. 2. 1. 1. 3. 1. 1. 1. 1. 1. 1. 2.\n",
      " 1. 3. 3. 3. 3. 3. 3. 3. 1. 3. 3. 3. 3. 1. 3. 3. 3. 3. 1. 3. 3. 3. 3. 3.\n",
      " 3. 3. 1. 2. 2. 2. 2. 2. 2. 1. 2. 1. 2. 2. 2. 2. 2. 2. 1. 1. 1. 1. 1. 1.\n",
      " 3. 1. 2.]\n",
      "已经收敛\n",
      "[2. 1. 1. 1. 2. 1. 2. 1. 1. 1. 1. 1. 2. 3. 1. 1. 2. 1. 1. 1. 1. 1. 1. 3.\n",
      " 1. 2. 2. 2. 2. 2. 2. 2. 1. 2. 2. 2. 2. 1. 2. 2. 2. 2. 1. 2. 2. 2. 2. 2.\n",
      " 2. 2. 1. 3. 3. 3. 3. 3. 3. 1. 3. 1. 3. 3. 3. 3. 3. 3. 1. 1. 1. 1. 1. 1.\n",
      " 2. 1. 3.]\n",
      "已经收敛\n",
      "[3. 2. 2. 2. 3. 2. 3. 1. 2. 1. 2. 2. 3. 1. 2. 2. 3. 2. 2. 2. 2. 2. 2. 1.\n",
      " 2. 3. 3. 3. 3. 3. 3. 3. 2. 3. 3. 3. 3. 2. 3. 3. 3. 3. 2. 3. 3. 3. 3. 3.\n",
      " 3. 3. 1. 1. 1. 1. 1. 1. 1. 1. 1. 1. 1. 1. 1. 1. 1. 1. 2. 1. 2. 1. 2. 2.\n",
      " 3. 1. 1.]\n"
     ]
    },
    {
     "data": {
      "image/png": "[encoded data removed]",
      "text/plain": [
       "<Figure size 960x640 with 4 Axes>"
      ]
     },
     "metadata": {},
     "output_type": "display_data"
    }
   ],
   "source": [
    "def train(data, method='random'):\n",
    "    flag = False\n",
    "    pre = np.zeros(len(data))\n",
    "    center = initial(data, pre, method)\n",
    "    classify(data, pre, center)\n",
    "    \n",
    "    # 循环更新直到收敛\n",
    "    for _ in range(5000):\n",
    "        pre_ = pre.copy()\n",
    "        find(data, pre, center)\n",
    "        classify(data, pre, center)\n",
    "        if all(pre==pre_):\n",
    "            print(\"已经收敛\")\n",
    "            flag = True\n",
    "            break\n",
    "\n",
    "    if flag:\n",
    "        for i in range(len(data)):\n",
    "            if pre[i] == 1:\n",
    "                plt.scatter(data.iloc[i]['x1'], data.iloc[i]['x2'], c='r')\n",
    "            elif pre[i] == 2:\n",
    "                plt.scatter(data.iloc[i]['x1'], data.iloc[i]['x2'], c='g')\n",
    "            else:\n",
    "                plt.scatter(data.iloc[i]['x1'], data.iloc[i]['x2'], c='b')\n",
    "        plt.scatter(center[:]['x1'], center[:]['x2'], c='black')\n",
    "        print(pre)\n",
    "    else:\n",
    "        print(\"未能收敛\")\n",
    "        \n",
    "# 创建画布\n",
    "fig = plt.figure(figsize=(12, 8), dpi=80)\n",
    "# 绘制分布\n",
    "pic = fig.add_subplot(2, 2, 1)\n",
    "A_x1 = data.iloc[:25]['x1']\n",
    "A_x2 = data.iloc[:25]['x2']\n",
    "plt.scatter(A_x1, A_x2, c='y')\n",
    "B_x1 = data.iloc[25:50]['x1']\n",
    "B_x2 = data.iloc[25:50]['x2']\n",
    "plt.scatter(B_x1, B_x2, c='pink')\n",
    "C_x1 = data.iloc[50:]['x1']\n",
    "C_x2 = data.iloc[50:]['x2']\n",
    "plt.scatter(C_x1, C_x2, c='grey')\n",
    "\n",
    "\n",
    "# 随机获得初始中心\n",
    "fig.add_subplot(2, 2, 2)\n",
    "train(data, 'random')\n",
    "\n",
    "# 最远\n",
    "# 随机获得初始中心\n",
    "fig.add_subplot(2, 2, 3)\n",
    "train(data, 'far')\n",
    "\n",
    "# ++\n",
    "fig.add_subplot(2, 2, 4)\n",
    "train(data, '++')"
   ]
  }
 ],
 "metadata": {
  "kernelspec": {
   "display_name": "Python 3",
   "language": "python",
   "name": "python3"
  },
  "language_info": {
   "codemirror_mode": {
    "name": "ipython",
    "version": 3
   },
   "file_extension": ".py",
   "mimetype": "text/x-python",
   "name": "python",
   "nbconvert_exporter": "python",
   "pygments_lexer": "ipython3",
   "version": "3.6.0"
  }
 },
 "nbformat": 4,
 "nbformat_minor": 5
}
